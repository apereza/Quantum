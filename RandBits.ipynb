{
 "cells": [
  {
   "cell_type": "code",
   "execution_count": 1,
   "metadata": {},
   "outputs": [],
   "source": [
    "import random\n",
    "from qiskit import *\n",
    "from qiskit.tools.visualization import plot_histogram"
   ]
  },
  {
   "cell_type": "code",
   "execution_count": 107,
   "metadata": {},
   "outputs": [
    {
     "name": "stdout",
     "output_type": "stream",
     "text": [
      "1110\n"
     ]
    }
   ],
   "source": [
    "key = ''\n",
    "for i in range(random.randint(4,4)):\n",
    "    temp = str(random.randint(0,1))\n",
    "    key += temp\n",
    "print(key)"
   ]
  },
  {
   "cell_type": "code",
   "execution_count": 108,
   "metadata": {},
   "outputs": [
    {
     "data": {
      "text/html": [
       "<pre style=\"word-wrap: normal;white-space: pre;background: #fff0;line-height: 1.1;font-family: &quot;Courier New&quot;,Courier,monospace\">     ┌───┐┌───┐     ┌─┐                        \n",
       "q_0: ┤ H ├┤ H ├─────┤M├────────────────────────\n",
       "     ├───┤└───┘     └╥┘┌───┐     ┌─┐           \n",
       "q_1: ┤ H ├───────■───╫─┤ H ├─────┤M├───────────\n",
       "     ├───┤       │   ║ └───┘┌───┐└╥┘     ┌─┐   \n",
       "q_2: ┤ H ├───────┼───╫───■──┤ H ├─╫──────┤M├───\n",
       "     ├───┤       │   ║   │  └───┘ ║ ┌───┐└╥┘┌─┐\n",
       "q_3: ┤ H ├───────┼───╫───┼────■───╫─┤ H ├─╫─┤M├\n",
       "     ├───┤┌───┐┌─┴─┐ ║ ┌─┴─┐┌─┴─┐ ║ └───┘ ║ └╥┘\n",
       "q_4: ┤ X ├┤ H ├┤ X ├─╫─┤ X ├┤ X ├─╫───────╫──╫─\n",
       "     └───┘└───┘└───┘ ║ └───┘└───┘ ║       ║  ║ \n",
       "c: 4/════════════════╩════════════╩═══════╩══╩═\n",
       "                     0            1       2  3 </pre>"
      ],
      "text/plain": [
       "     ┌───┐┌───┐     ┌─┐                        \n",
       "q_0: ┤ H ├┤ H ├─────┤M├────────────────────────\n",
       "     ├───┤└───┘     └╥┘┌───┐     ┌─┐           \n",
       "q_1: ┤ H ├───────■───╫─┤ H ├─────┤M├───────────\n",
       "     ├───┤       │   ║ └───┘┌───┐└╥┘     ┌─┐   \n",
       "q_2: ┤ H ├───────┼───╫───■──┤ H ├─╫──────┤M├───\n",
       "     ├───┤       │   ║   │  └───┘ ║ ┌───┐└╥┘┌─┐\n",
       "q_3: ┤ H ├───────┼───╫───┼────■───╫─┤ H ├─╫─┤M├\n",
       "     ├───┤┌───┐┌─┴─┐ ║ ┌─┴─┐┌─┴─┐ ║ └───┘ ║ └╥┘\n",
       "q_4: ┤ X ├┤ H ├┤ X ├─╫─┤ X ├┤ X ├─╫───────╫──╫─\n",
       "     └───┘└───┘└───┘ ║ └───┘└───┘ ║       ║  ║ \n",
       "c: 4/════════════════╩════════════╩═══════╩══╩═\n",
       "                     0            1       2  3 "
      ]
     },
     "execution_count": 108,
     "metadata": {},
     "output_type": "execute_result"
    }
   ],
   "source": [
    "c = QuantumCircuit(4+1, 4)\n",
    "\n",
    "c.h(range(len(key)))\n",
    "c.x(len(key))\n",
    "c.h(len(key))\n",
    "\n",
    "for k, s in enumerate(reversed(key)):\n",
    "    if s == '1':\n",
    "        c.cx(k, len(key))\n",
    "\n",
    "c.h(range(len(key)))\n",
    "c.measure(range(len(key)), range(len(key)))\n",
    "c.draw()"
   ]
  },
  {
   "cell_type": "code",
   "execution_count": 109,
   "metadata": {},
   "outputs": [],
   "source": [
    "simulator = Aer.get_backend(\"qasm_simulator\")"
   ]
  },
  {
   "cell_type": "code",
   "execution_count": 110,
   "metadata": {},
   "outputs": [],
   "source": [
    "result = execute(c, backend = simulator).result()"
   ]
  },
  {
   "cell_type": "code",
   "execution_count": 111,
   "metadata": {},
   "outputs": [
    {
     "data": {
      "image/png": "[encoded data removed]",
      "text/plain": [
       "<Figure size 504x360 with 1 Axes>"
      ]
     },
     "execution_count": 111,
     "metadata": {},
     "output_type": "execute_result"
    }
   ],
   "source": [
    "plot_histogram(result.get_counts(c))"
   ]
  },
  {
   "cell_type": "code",
   "execution_count": 48,
   "metadata": {},
   "outputs": [],
   "source": [
    "from qiskit import IBMQ"
   ]
  },
  {
   "cell_type": "code",
   "execution_count": 49,
   "metadata": {},
   "outputs": [
    {
     "name": "stderr",
     "output_type": "stream",
     "text": [
      "ibmqfactory.load_account:WARNING:2022-12-15 16:05:02,689: Credentials are already in use. The existing account in the session will be replaced.\n"
     ]
    },
    {
     "data": {
      "text/plain": [
       "<AccountProvider for IBMQ(hub='ibm-q', group='open', project='main')>"
      ]
     },
     "execution_count": 49,
     "metadata": {},
     "output_type": "execute_result"
    }
   ],
   "source": [
    "IBMQ.load_account()"
   ]
  },
  {
   "cell_type": "code",
   "execution_count": 50,
   "metadata": {},
   "outputs": [],
   "source": [
    "provider = IBMQ.get_provider('ibm-q')"
   ]
  },
  {
   "cell_type": "code",
   "execution_count": 51,
   "metadata": {},
   "outputs": [],
   "source": [
    "qc = provider.get_backend('ibmq_belem')"
   ]
  },
  {
   "cell_type": "code",
   "execution_count": 52,
   "metadata": {},
   "outputs": [],
   "source": [
    "job = execute(c, backend =qc, shots = 1)"
   ]
  },
  {
   "cell_type": "code",
   "execution_count": 53,
   "metadata": {},
   "outputs": [],
   "source": [
    "from qiskit.tools.monitor import job_monitor"
   ]
  },
  {
   "cell_type": "code",
   "execution_count": 54,
   "metadata": {},
   "outputs": [
    {
     "name": "stdout",
     "output_type": "stream",
     "text": [
      "Job Status: job has successfully run\n"
     ]
    }
   ],
   "source": [
    "job_monitor(job)"
   ]
  },
  {
   "cell_type": "code",
   "execution_count": 55,
   "metadata": {},
   "outputs": [],
   "source": [
    "result = job.result()"
   ]
  },
  {
   "cell_type": "code",
   "execution_count": 56,
   "metadata": {},
   "outputs": [
    {
     "name": "stdout",
     "output_type": "stream",
     "text": [
      "{'1110': 1}\n"
     ]
    }
   ],
   "source": [
    "counts = result.get_counts()\n",
    "print(counts)"
   ]
  },
  {
   "cell_type": "code",
   "execution_count": null,
   "metadata": {},
   "outputs": [],
   "source": []
  }
 ],
 "metadata": {
  "kernelspec": {
   "display_name": "Python 3",
   "language": "python",
   "name": "python3"
  },
  "language_info": {
   "codemirror_mode": {
    "name": "ipython",
    "version": 3
   },
   "file_extension": ".py",
   "mimetype": "text/x-python",
   "name": "python",
   "nbconvert_exporter": "python",
   "pygments_lexer": "ipython3",
   "version": "3.8.5"
  }
 },
 "nbformat": 4,
 "nbformat_minor": 4
}
